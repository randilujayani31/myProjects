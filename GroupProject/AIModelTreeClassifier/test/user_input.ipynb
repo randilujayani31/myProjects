{
 "cells": [
  {
   "cell_type": "code",
   "execution_count": 1,
   "id": "6e429cb2",
   "metadata": {},
   "outputs": [
    {
     "ename": "ImportError",
     "evalue": "cannot import name 'load_model' from 'keras.models' (C:\\Users\\VOSTRO\\.conda\\envs\\my_env\\Lib\\site-packages\\keras\\models\\__init__.py)",
     "output_type": "error",
     "traceback": [
      "\u001b[1;31m---------------------------------------------------------------------------\u001b[0m",
      "\u001b[1;31mImportError\u001b[0m                               Traceback (most recent call last)",
      "Cell \u001b[1;32mIn[1], line 4\u001b[0m\n\u001b[0;32m      2\u001b[0m \u001b[38;5;28;01mimport\u001b[39;00m \u001b[38;5;21;01mnumpy\u001b[39;00m \u001b[38;5;28;01mas\u001b[39;00m \u001b[38;5;21;01mnp\u001b[39;00m\n\u001b[0;32m      3\u001b[0m \u001b[38;5;28;01mfrom\u001b[39;00m \u001b[38;5;21;01msklearn\u001b[39;00m\u001b[38;5;21;01m.\u001b[39;00m\u001b[38;5;21;01mpreprocessing\u001b[39;00m \u001b[38;5;28;01mimport\u001b[39;00m StandardScaler\n\u001b[1;32m----> 4\u001b[0m \u001b[38;5;28;01mfrom\u001b[39;00m \u001b[38;5;21;01mkeras\u001b[39;00m\u001b[38;5;21;01m.\u001b[39;00m\u001b[38;5;21;01mmodels\u001b[39;00m \u001b[38;5;28;01mimport\u001b[39;00m load_model\n\u001b[0;32m      6\u001b[0m \u001b[38;5;66;03m# Load the model\u001b[39;00m\n\u001b[0;32m      7\u001b[0m model \u001b[38;5;241m=\u001b[39m load_model(\u001b[38;5;124m'\u001b[39m\u001b[38;5;124mmodel_tanh.h5\u001b[39m\u001b[38;5;124m'\u001b[39m)\n",
      "\u001b[1;31mImportError\u001b[0m: cannot import name 'load_model' from 'keras.models' (C:\\Users\\VOSTRO\\.conda\\envs\\my_env\\Lib\\site-packages\\keras\\models\\__init__.py)"
     ]
    }
   ],
   "source": [
    "import pandas as pd\n",
    "import numpy as np\n",
    "from sklearn.preprocessing import StandardScaler\n",
    "from keras.models import load_model\n",
    "\n",
    "# Load the model\n",
    "model = load_model('model_tanh.h5')\n",
    "\n",
    "# Load the dataset to get feature names and to fit the scaler\n",
    "df = pd.read_csv('data.csv', delimiter=';')\n",
    "\n",
    "# Identify the feature variables (all columns except the target column)\n",
    "features = df.drop(columns=['label'])\n",
    "\n",
    "# Fit the scaler on the full dataset\n",
    "scaler = StandardScaler()\n",
    "scaler.fit(features)\n",
    "\n",
    "def get_user_input():\n",
    "    input_features = []\n",
    "    feature_names = features.columns  # Get feature names from the dataset\n",
    "    for feature in feature_names:\n",
    "        value = float(input(f\"Enter value for {feature}: \"))\n",
    "        input_features.append(value)\n",
    "    return np.array(input_features).reshape(1, -1)\n",
    "\n",
    "# Get user input\n",
    "user_input = get_user_input()\n",
    "user_input_scaled = scaler.transform(user_input)\n",
    "\n",
    "# Predict the class\n",
    "predicted_class = model.predict(user_input_scaled)\n",
    "predicted_class_index = np.argmax(predicted_class)\n",
    "\n",
    "# Map class index to species name\n",
    "species_names = {0: \"Sudu Pera\", 1: \"Rathu Pera\", 2: \"Kilo Pera\"}\n",
    "\n",
    "# Print the predicted species name\n",
    "print(f\"Predicted class: {species_names.get(predicted_class_index, 'Unknown')}\")\n"
   ]
  },
  {
   "cell_type": "code",
   "execution_count": 2,
   "id": "d8812d1d",
   "metadata": {},
   "outputs": [
    {
     "name": "stdout",
     "output_type": "stream",
     "text": [
      "Enter value for Area(cm^2): 81.9\n",
      "Enter value for W/L: 0.61\n",
      "Enter value for Patiole Length(mm): 16.83\n",
      "Enter value for Number of Pairs: 14.11\n",
      "Enter value for Ratio: 55.07\n",
      "Predicted class: Kilo Pera\n"
     ]
    },
    {
     "name": "stderr",
     "output_type": "stream",
     "text": [
      "C:\\Users\\vikum\\anaconda3\\envs\\pyOld\\lib\\site-packages\\sklearn\\base.py:451: UserWarning: X does not have valid feature names, but StandardScaler was fitted with feature names\n",
      "  \"X does not have valid feature names, but\"\n"
     ]
    }
   ],
   "source": [
    "import pandas as pd\n",
    "import numpy as np\n",
    "from sklearn.preprocessing import StandardScaler\n",
    "from keras.models import load_model\n",
    "\n",
    "# Load the model\n",
    "model = load_model('model_tanh.h5')\n",
    "\n",
    "# Load the dataset to get feature names and to fit the scaler\n",
    "df = pd.read_csv('data.csv', delimiter=';')\n",
    "\n",
    "# Identify the feature variables (all columns except the target column)\n",
    "features = df.drop(columns=['label'])\n",
    "\n",
    "# Fit the scaler on the full dataset\n",
    "scaler = StandardScaler()\n",
    "scaler.fit(features)\n",
    "\n",
    "def get_user_input():\n",
    "    input_features = []\n",
    "    feature_names = features.columns  # Get feature names from the dataset\n",
    "    for feature in feature_names:\n",
    "        value = float(input(f\"Enter value for {feature}: \"))\n",
    "        input_features.append(value)\n",
    "    return np.array(input_features).reshape(1, -1)\n",
    "\n",
    "# Get user input\n",
    "user_input = get_user_input()\n",
    "user_input_scaled = scaler.transform(user_input)\n",
    "\n",
    "# Predict the class\n",
    "predicted_class = model.predict(user_input_scaled)\n",
    "predicted_class_index = np.argmax(predicted_class)\n",
    "\n",
    "# Map class index to species name\n",
    "species_names = {0: \"Sudu Pera\", 1: \"Rathu Pera\", 2: \"Kilo Pera\"}\n",
    "\n",
    "# Print the predicted species name\n",
    "print(f\"Predicted class: {species_names.get(predicted_class_index, 'Unknown')}\")\n"
   ]
  },
  {
   "cell_type": "code",
   "execution_count": null,
   "id": "1d63aea6",
   "metadata": {},
   "outputs": [],
   "source": []
  }
 ],
 "metadata": {
  "kernelspec": {
   "display_name": "Python 3 (ipykernel)",
   "language": "python",
   "name": "python3"
  },
  "language_info": {
   "codemirror_mode": {
    "name": "ipython",
    "version": 3
   },
   "file_extension": ".py",
   "mimetype": "text/x-python",
   "name": "python",
   "nbconvert_exporter": "python",
   "pygments_lexer": "ipython3",
   "version": "3.11.8"
  }
 },
 "nbformat": 4,
 "nbformat_minor": 5
}
